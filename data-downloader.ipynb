{
 "cells": [
  {
   "cell_type": "code",
   "execution_count": 1,
   "metadata": {},
   "outputs": [],
   "source": [
    "from src.utils import download_images\n",
    "import pandas as pd"
   ]
  },
  {
   "cell_type": "code",
   "execution_count": 2,
   "metadata": {},
   "outputs": [
    {
     "name": "stderr",
     "output_type": "stream",
     "text": [
      "100%|██████████| 263859/263859 [2:24:52<00:00, 30.36it/s]   \n"
     ]
    }
   ],
   "source": [
    "# Load the train data\n",
    "train_df = pd.read_csv('dataset/train.csv')\n",
    "\n",
    "# Extract image links\n",
    "image_links = train_df['image_link'].tolist()\n",
    "\n",
    "# Specify the folder to save images\n",
    "download_folder = 'images/train'\n",
    "\n",
    "# Download images\n",
    "download_images(image_links, download_folder)"
   ]
  },
  {
   "cell_type": "code",
   "execution_count": null,
   "metadata": {},
   "outputs": [],
   "source": []
  }
 ],
 "metadata": {
  "kernelspec": {
   "display_name": "Python 3",
   "language": "python",
   "name": "python3"
  },
  "language_info": {
   "codemirror_mode": {
    "name": "ipython",
    "version": 3
   },
   "file_extension": ".py",
   "mimetype": "text/x-python",
   "name": "python",
   "nbconvert_exporter": "python",
   "pygments_lexer": "ipython3",
   "version": "3.10.12"
  }
 },
 "nbformat": 4,
 "nbformat_minor": 2
}
